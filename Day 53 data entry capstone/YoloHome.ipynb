{
 "cells": [
  {
   "cell_type": "markdown",
   "metadata": {},
   "source": [
    "## Prepare setups"
   ]
  },
  {
   "cell_type": "code",
   "execution_count": 1,
   "metadata": {},
   "outputs": [],
   "source": [
    "import requests\n",
    "from bs4 import BeautifulSoup\n",
    "import re\n",
    "\n",
    "from selenium import webdriver\n",
    "from selenium.common.exceptions import ElementClickInterceptedException\n",
    "from selenium.webdriver.common.keys import Keys\n",
    "\n",
    "chrome_driver = \"C://Users//amged//developer//chromedriver.exe\""
   ]
  },
  {
   "cell_type": "code",
   "execution_count": 2,
   "metadata": {},
   "outputs": [
    {
     "name": "stderr",
     "output_type": "stream",
     "text": [
      "C:\\Users\\amged\\AppData\\Local\\Temp/ipykernel_7848/738716023.py:3: DeprecationWarning: executable_path has been deprecated, please pass in a Service object\n",
      "  driver =  webdriver.Chrome(executable_path=chrome_driver)\n",
      "C:\\Users\\amged\\AppData\\Local\\Temp/ipykernel_7848/738716023.py:7: DeprecationWarning: find_element_by_css_selector is deprecated. Please use find_element(by=By.CSS_SELECTOR, value=css_selector) instead\n",
      "  driver.find_element_by_css_selector('.modal-body ul li').click()\n",
      "C:\\Users\\amged\\AppData\\Local\\Temp/ipykernel_7848/738716023.py:11: DeprecationWarning: find_element_by_xpath is deprecated. Please use find_element(by=By.XPATH, value=xpath) instead\n",
      "  driver.find_element_by_xpath('/html/body/div/div/div/div[2]/div[2]/section[3]/div/div[2]/div/div/div[1]/div[1]/div[3]/div[2]/button[2]').click()\n"
     ]
    }
   ],
   "source": [
    "yolo_map_link = \"https://home.yolo-japan.com/en/tokyo/list?priceTo=95&room=2,3&dateBuild=30&property_type_id=3102,3101&buildingEquipment=23201,20101&perPage=50&page=1\"\n",
    "\n",
    "driver =  webdriver.Chrome(executable_path=chrome_driver)\n",
    "driver.get(yolo_map_link)\n",
    "try:\n",
    "    # Close the pop-up menu if it appears\n",
    "    driver.find_element_by_css_selector('.modal-body ul li').click()\n",
    "except:\n",
    "    pass\n",
    "# Change the view\n",
    "driver.find_element_by_xpath('/html/body/div/div/div/div[2]/div[2]/section[3]/div/div[2]/div/div/div[1]/div[1]/div[3]/div[2]/button[2]').click()"
   ]
  },
  {
   "cell_type": "code",
   "execution_count": 3,
   "metadata": {},
   "outputs": [
    {
     "name": "stderr",
     "output_type": "stream",
     "text": [
      "C:\\Users\\amged\\AppData\\Local\\Temp/ipykernel_7848/3318194801.py:1: DeprecationWarning: find_element_by_class_name is deprecated. Please use find_element(by=By.CLASS_NAME, value=name) instead\n",
      "  house = driver.find_element_by_class_name('property-wrapper')\n",
      "C:\\Users\\amged\\AppData\\Local\\Temp/ipykernel_7848/3318194801.py:2: DeprecationWarning: find_element_by_tag_name is deprecated. Please use find_element(by=By.TAG_NAME, value=name) instead\n",
      "  link = house.find_element_by_tag_name('a').get_attribute('href')\n",
      "C:\\Users\\amged\\AppData\\Local\\Temp/ipykernel_7848/3318194801.py:3: DeprecationWarning: find_element_by_tag_name is deprecated. Please use find_element(by=By.TAG_NAME, value=name) instead\n",
      "  full_name = house.find_element_by_tag_name('h5').text\n"
     ]
    }
   ],
   "source": [
    "house = driver.find_element_by_class_name('property-wrapper')\n",
    "full_name = house.find_element_by_tag_name('h5').text\n",
    "apartment_type = re.match('^[a-zA-Z0-9 ]*', full_name).group(0)\n",
    "apartment_name = full_name.replace(apartment_type,\"\")\n",
    "apartment_link = house.find_element_by_tag_name('a').get_attribute('href')"
   ]
  },
  {
   "cell_type": "code",
   "execution_count": 7,
   "metadata": {},
   "outputs": [
    {
     "name": "stderr",
     "output_type": "stream",
     "text": [
      "C:\\Users\\amged\\AppData\\Local\\Temp/ipykernel_7848/3407480415.py:1: DeprecationWarning: find_elements_by_css_selector is deprecated. Please use find_elements(by=By.CSS_SELECTOR, value=css_selector) instead\n",
      "  house.find_elements_by_css_selector('.txt-info span')[1].text\n"
     ]
    },
    {
     "data": {
      "text/plain": [
       "'/ Built 4 years ago/2 floor building'"
      ]
     },
     "execution_count": 7,
     "metadata": {},
     "output_type": "execute_result"
    }
   ],
   "source": [
    "house.find_elements_by_css_selector('.txt-info span')[1].text"
   ]
  },
  {
   "cell_type": "code",
   "execution_count": 14,
   "metadata": {},
   "outputs": [
    {
     "name": "stderr",
     "output_type": "stream",
     "text": [
      "C:\\Users\\amged\\AppData\\Local\\Temp/ipykernel_15556/2670073314.py:1: DeprecationWarning: find_element_by_css_selector is deprecated. Please use find_element(by=By.CSS_SELECTOR, value=css_selector) instead\n",
      "  driver.find_element_by_css_selector('.modal-body ul li').click()\n"
     ]
    }
   ],
   "source": [
    "class House:\n",
    "    pass"
   ]
  }
 ],
 "metadata": {
  "interpreter": {
   "hash": "32feb0801da70f17b1f822b12d6cc47a37ed7324c1713b5c8a6c518438790250"
  },
  "kernelspec": {
   "display_name": "Python 3.9.7 ('base')",
   "language": "python",
   "name": "python3"
  },
  "language_info": {
   "codemirror_mode": {
    "name": "ipython",
    "version": 3
   },
   "file_extension": ".py",
   "mimetype": "text/x-python",
   "name": "python",
   "nbconvert_exporter": "python",
   "pygments_lexer": "ipython3",
   "version": "3.9.7"
  },
  "orig_nbformat": 4
 },
 "nbformat": 4,
 "nbformat_minor": 2
}
