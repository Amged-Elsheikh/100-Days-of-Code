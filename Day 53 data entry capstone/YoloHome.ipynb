{
 "cells": [
  {
   "cell_type": "markdown",
   "metadata": {},
   "source": [
    "## Prepare setups"
   ]
  },
  {
   "cell_type": "code",
   "execution_count": 177,
   "metadata": {},
   "outputs": [],
   "source": [
    "import requests\n",
    "from bs4 import BeautifulSoup\n",
    "import re\n",
    "import pandas as pd\n",
    "\n",
    "from selenium import webdriver\n",
    "from selenium.webdriver.common.by import By\n",
    "from selenium.common.exceptions import ElementClickInterceptedException\n",
    "from selenium.webdriver.common.keys import Keys\n",
    "\n",
    "chrome_driver = \"C://Users//amged//developer//chromedriver.exe\""
   ]
  },
  {
   "cell_type": "code",
   "execution_count": 178,
   "metadata": {},
   "outputs": [
    {
     "name": "stderr",
     "output_type": "stream",
     "text": [
      "C:\\Users\\amged\\AppData\\Local\\Temp/ipykernel_18096/281325430.py:3: DeprecationWarning: executable_path has been deprecated, please pass in a Service object\n",
      "  driver =  webdriver.Chrome(executable_path=chrome_driver)\n"
     ]
    }
   ],
   "source": [
    "yolo_map_link = \"https://home.yolo-japan.com/en/tokyo/list?priceTo=95&room=2,3&dateBuild=30&property_type_id=3102,3101&buildingEquipment=23201,20101&perPage=50&page=1\"\n",
    "\n",
    "driver =  webdriver.Chrome(executable_path=chrome_driver)\n",
    "driver.get(yolo_map_link)\n",
    "try:\n",
    "    # Close the pop-up menu if it appears\n",
    "    driver.find_element(by=By.CSS_SELECTOR, value='.modal-body ul li').click()\n",
    "except:\n",
    "    pass\n",
    "# Change the view\n",
    "driver.find_element(by=By.XPATH ,value='/html/body/div/div/div/div[2]/div[2]/section[3]/div/div[2]/div/div/div[1]/div[1]/div[3]/div[2]/button[2]').click()"
   ]
  },
  {
   "cell_type": "code",
   "execution_count": 179,
   "metadata": {},
   "outputs": [],
   "source": [
    "# Get houses tags\n",
    "house = driver.find_elements(by=By.CSS_SELECTOR, value='.property-wrapper')[0]\n",
    "# house type and name\n",
    "full_name = house.find_element(by=By.TAG_NAME, value='h5').text\n",
    "# house Type\n",
    "apartment_type = re.match('^[a-zA-Z0-9 ]*', full_name).group(0)[:-1]\n",
    "# house name\n",
    "apartment_name = full_name.replace(apartment_type+' ',\"\")\n",
    "# hyperlink\n",
    "apartment_link = house.find_element(by=By.TAG_NAME, value='a').get_attribute('href')\n",
    "# Apartment id\n",
    "ID = re.search('[0-9]*$',apartment_link)"
   ]
  },
  {
   "cell_type": "code",
   "execution_count": 97,
   "metadata": {},
   "outputs": [],
   "source": [
    "# Get age an address\n",
    "address, age = house.find_elements(by=By.CSS_SELECTOR, value='.txt-info span')\n",
    "address = address.text\n",
    "age = re.search('[0-9]+' , age.text.split('/')[1]).group()"
   ]
  },
  {
   "cell_type": "code",
   "execution_count": 206,
   "metadata": {},
   "outputs": [
    {
     "data": {
      "text/plain": [
       "69000"
      ]
     },
     "execution_count": 206,
     "metadata": {},
     "output_type": "execute_result"
    }
   ],
   "source": [
    "appartment = house.find_elements(by=By.CSS_SELECTOR, value='.property-list .item-right')[0]\n",
    "monthly_payment = appartment.find_element(by=By.CSS_SELECTOR, value='.price').text\n",
    "monthly_payment = sum([int(re.sub(\"[^0-9.]\",'',i)) for i in monthly_payment.split('/')])\n",
    "appartment.find_element(by=By.CSS_SELECTOR, value='.w-40').text\n",
    "monthly_payment"
   ]
  },
  {
   "cell_type": "code",
   "execution_count": 186,
   "metadata": {},
   "outputs": [
    {
     "ename": "ValueError",
     "evalue": "invalid literal for int() with base 10: '40002126.082'",
     "output_type": "error",
     "traceback": [
      "\u001b[1;31m---------------------------------------------------------------------------\u001b[0m",
      "\u001b[1;31mValueError\u001b[0m                                Traceback (most recent call last)",
      "\u001b[1;32m~\\AppData\\Local\\Temp/ipykernel_18096/3781484436.py\u001b[0m in \u001b[0;36m<module>\u001b[1;34m\u001b[0m\n\u001b[0;32m      5\u001b[0m \u001b[1;31m# get appartment details as a list\u001b[0m\u001b[1;33m\u001b[0m\u001b[1;33m\u001b[0m\u001b[0m\n\u001b[0;32m      6\u001b[0m \u001b[0mappartment\u001b[0m \u001b[1;33m=\u001b[0m \u001b[0mappartment\u001b[0m\u001b[1;33m.\u001b[0m\u001b[0mtext\u001b[0m\u001b[1;33m.\u001b[0m\u001b[0msplit\u001b[0m\u001b[1;33m(\u001b[0m\u001b[1;34m'\\n'\u001b[0m\u001b[1;33m)\u001b[0m\u001b[1;33m\u001b[0m\u001b[1;33m\u001b[0m\u001b[0m\n\u001b[1;32m----> 7\u001b[1;33m \u001b[0mmontly_payment\u001b[0m \u001b[1;33m=\u001b[0m \u001b[0msum\u001b[0m\u001b[1;33m(\u001b[0m\u001b[1;33m[\u001b[0m\u001b[0mint\u001b[0m\u001b[1;33m(\u001b[0m\u001b[0mre\u001b[0m\u001b[1;33m.\u001b[0m\u001b[0msub\u001b[0m\u001b[1;33m(\u001b[0m\u001b[1;34m\"[^0-9.]\"\u001b[0m\u001b[1;33m,\u001b[0m\u001b[1;34m''\u001b[0m\u001b[1;33m,\u001b[0m\u001b[0mi\u001b[0m\u001b[1;33m)\u001b[0m\u001b[1;33m)\u001b[0m \u001b[1;32mfor\u001b[0m \u001b[0mi\u001b[0m \u001b[1;32min\u001b[0m \u001b[0mappartment\u001b[0m\u001b[1;33m[\u001b[0m\u001b[1;36m0\u001b[0m\u001b[1;33m]\u001b[0m\u001b[1;33m.\u001b[0m\u001b[0msplit\u001b[0m\u001b[1;33m(\u001b[0m\u001b[1;34m'/'\u001b[0m\u001b[1;33m)\u001b[0m\u001b[1;33m]\u001b[0m\u001b[1;33m)\u001b[0m\u001b[1;33m\u001b[0m\u001b[1;33m\u001b[0m\u001b[0m\n\u001b[0m\u001b[0;32m      8\u001b[0m \u001b[0mfloor\u001b[0m \u001b[1;33m=\u001b[0m \u001b[0mint\u001b[0m\u001b[1;33m(\u001b[0m\u001b[0mre\u001b[0m\u001b[1;33m.\u001b[0m\u001b[0msub\u001b[0m\u001b[1;33m(\u001b[0m\u001b[1;34m'[^0-9]'\u001b[0m\u001b[1;33m,\u001b[0m\u001b[1;34m''\u001b[0m\u001b[1;33m,\u001b[0m\u001b[0mappartment\u001b[0m\u001b[1;33m[\u001b[0m\u001b[1;36m1\u001b[0m\u001b[1;33m]\u001b[0m\u001b[1;33m)\u001b[0m\u001b[1;33m)\u001b[0m\u001b[1;33m\u001b[0m\u001b[1;33m\u001b[0m\u001b[0m\n\u001b[0;32m      9\u001b[0m \u001b[0mroom_type\u001b[0m \u001b[1;33m=\u001b[0m \u001b[0mappartment\u001b[0m\u001b[1;33m[\u001b[0m\u001b[1;36m2\u001b[0m\u001b[1;33m]\u001b[0m\u001b[1;33m\u001b[0m\u001b[1;33m\u001b[0m\u001b[0m\n",
      "\u001b[1;32m~\\AppData\\Local\\Temp/ipykernel_18096/3781484436.py\u001b[0m in \u001b[0;36m<listcomp>\u001b[1;34m(.0)\u001b[0m\n\u001b[0;32m      5\u001b[0m \u001b[1;31m# get appartment details as a list\u001b[0m\u001b[1;33m\u001b[0m\u001b[1;33m\u001b[0m\u001b[0m\n\u001b[0;32m      6\u001b[0m \u001b[0mappartment\u001b[0m \u001b[1;33m=\u001b[0m \u001b[0mappartment\u001b[0m\u001b[1;33m.\u001b[0m\u001b[0mtext\u001b[0m\u001b[1;33m.\u001b[0m\u001b[0msplit\u001b[0m\u001b[1;33m(\u001b[0m\u001b[1;34m'\\n'\u001b[0m\u001b[1;33m)\u001b[0m\u001b[1;33m\u001b[0m\u001b[1;33m\u001b[0m\u001b[0m\n\u001b[1;32m----> 7\u001b[1;33m \u001b[0mmontly_payment\u001b[0m \u001b[1;33m=\u001b[0m \u001b[0msum\u001b[0m\u001b[1;33m(\u001b[0m\u001b[1;33m[\u001b[0m\u001b[0mint\u001b[0m\u001b[1;33m(\u001b[0m\u001b[0mre\u001b[0m\u001b[1;33m.\u001b[0m\u001b[0msub\u001b[0m\u001b[1;33m(\u001b[0m\u001b[1;34m\"[^0-9.]\"\u001b[0m\u001b[1;33m,\u001b[0m\u001b[1;34m''\u001b[0m\u001b[1;33m,\u001b[0m\u001b[0mi\u001b[0m\u001b[1;33m)\u001b[0m\u001b[1;33m)\u001b[0m \u001b[1;32mfor\u001b[0m \u001b[0mi\u001b[0m \u001b[1;32min\u001b[0m \u001b[0mappartment\u001b[0m\u001b[1;33m[\u001b[0m\u001b[1;36m0\u001b[0m\u001b[1;33m]\u001b[0m\u001b[1;33m.\u001b[0m\u001b[0msplit\u001b[0m\u001b[1;33m(\u001b[0m\u001b[1;34m'/'\u001b[0m\u001b[1;33m)\u001b[0m\u001b[1;33m]\u001b[0m\u001b[1;33m)\u001b[0m\u001b[1;33m\u001b[0m\u001b[1;33m\u001b[0m\u001b[0m\n\u001b[0m\u001b[0;32m      8\u001b[0m \u001b[0mfloor\u001b[0m \u001b[1;33m=\u001b[0m \u001b[0mint\u001b[0m\u001b[1;33m(\u001b[0m\u001b[0mre\u001b[0m\u001b[1;33m.\u001b[0m\u001b[0msub\u001b[0m\u001b[1;33m(\u001b[0m\u001b[1;34m'[^0-9]'\u001b[0m\u001b[1;33m,\u001b[0m\u001b[1;34m''\u001b[0m\u001b[1;33m,\u001b[0m\u001b[0mappartment\u001b[0m\u001b[1;33m[\u001b[0m\u001b[1;36m1\u001b[0m\u001b[1;33m]\u001b[0m\u001b[1;33m)\u001b[0m\u001b[1;33m)\u001b[0m\u001b[1;33m\u001b[0m\u001b[1;33m\u001b[0m\u001b[0m\n\u001b[0;32m      9\u001b[0m \u001b[0mroom_type\u001b[0m \u001b[1;33m=\u001b[0m \u001b[0mappartment\u001b[0m\u001b[1;33m[\u001b[0m\u001b[1;36m2\u001b[0m\u001b[1;33m]\u001b[0m\u001b[1;33m\u001b[0m\u001b[1;33m\u001b[0m\u001b[0m\n",
      "\u001b[1;31mValueError\u001b[0m: invalid literal for int() with base 10: '40002126.082'"
     ]
    }
   ],
   "source": [
    "appartment = house.find_elements(by=By.CSS_SELECTOR, value='.property-list .item-right')[0]\n",
    "\n",
    "appartment_link = appartment.find_element(by=By.CSS_SELECTOR, value='a').get_attribute('href')\n",
    "appartment_id = re.search('[0-9]*$',appartment_link).group(0)\n",
    "# get appartment details as a list\n",
    "appartment = appartment.text.split('\\n')\n",
    "montly_payment = sum([int(re.sub(\"[^0-9.]\",'',i)) for i in appartment[0].split('/')])\n",
    "floor = int(re.sub('[^0-9]','',appartment[1]))\n",
    "room_type = appartment[2]\n",
    "area = float(appartment[3].replace('m2',\"\"))\n",
    "# One Tiome Payment\n",
    "otp = sum([int(re.sub(\"[^0-9.]\",'',i)) for i in appartment[-1].split('/')])"
   ]
  },
  {
   "cell_type": "code",
   "execution_count": 170,
   "metadata": {},
   "outputs": [],
   "source": [
    "class House:\n",
    "    def __init__(self, house):\n",
    "        # Get houses tags\n",
    "        self.house = house\n",
    "        # house type and name\n",
    "        self.full_name = self.house.find_element(\n",
    "            by=By.TAG_NAME, value='h5').text\n",
    "        # house Type\n",
    "        self.appartment_type = re.match(\n",
    "            '^[a-zA-Z0-9 ]*', full_name).group(0)[:-1]\n",
    "        # house name\n",
    "        self.appartment_name = full_name.replace(self.appartment_type+' ', \"\")\n",
    "        # Get address and building age\n",
    "        self.address, self.age = self.house.find_elements(\n",
    "            by=By.CSS_SELECTOR, value='.txt-info span')\n",
    "        self.address = self.address.text\n",
    "        self.age = int(\n",
    "            re.search('[0-9]+', self.age.text.split('/')[1]).group())\n",
    "        # get appartments\n",
    "        self.appartments = house.find_elements(\n",
    "            by=By.CSS_SELECTOR, value='.property-list .item-right')\n",
    "\n",
    "\n",
    "class Appartment:\n",
    "    def __init__(self, appartment):\n",
    "        self.appartment = appartment\n",
    "        self.appartment_link = self.appartment.find_element(\n",
    "            by=By.CSS_SELECTOR, value='a').get_attribute('href')\n",
    "        self.appartment_id = re.search(\n",
    "            '[0-9]*$', self.appartment_link).group(0)\n",
    "\n",
    "        # get appartment details as a list\n",
    "        self.appartment = self.appartment.text.split('\\n')\n",
    "        self.montly_payment = sum([int(re.sub(\"[^0-9.]\", '', i))\n",
    "                                  for i in self.appartment[0].split('/')])\n",
    "        self.floor = int(re.sub('[^0-9]', '', self.appartment[1]))\n",
    "        self.room_type = self.appartment[2]\n",
    "        self.area = float(self.appartment[3].replace('m2', \"\"))\n",
    "        # One Tiome Payment\n",
    "        self.otp = sum([int(re.sub(\"[^0-9.]\", '', i))\n",
    "                        for i in self.appartment[-1].split('/')])\n"
   ]
  },
  {
   "cell_type": "code",
   "execution_count": 171,
   "metadata": {},
   "outputs": [],
   "source": [
    "columns = ['ID', 'Name', 'Type','Built In', 'Address', 'Floor Number',\n",
    "           'Room Type', 'Area', 'URL', 'Monthly Payment']\n",
    "df = pd.DataFrame(columns=columns)"
   ]
  },
  {
   "cell_type": "code",
   "execution_count": 172,
   "metadata": {},
   "outputs": [
    {
     "ename": "ValueError",
     "evalue": "invalid literal for int() with base 10: '40002126.082'",
     "output_type": "error",
     "traceback": [
      "\u001b[1;31m---------------------------------------------------------------------------\u001b[0m",
      "\u001b[1;31mValueError\u001b[0m                                Traceback (most recent call last)",
      "\u001b[1;32m~\\AppData\\Local\\Temp/ipykernel_18096/3246683648.py\u001b[0m in \u001b[0;36m<module>\u001b[1;34m\u001b[0m\n\u001b[0;32m      4\u001b[0m     \u001b[0mhouse\u001b[0m \u001b[1;33m=\u001b[0m \u001b[0mHouse\u001b[0m\u001b[1;33m(\u001b[0m\u001b[0mhouse\u001b[0m\u001b[1;33m)\u001b[0m\u001b[1;33m\u001b[0m\u001b[1;33m\u001b[0m\u001b[0m\n\u001b[0;32m      5\u001b[0m     \u001b[1;32mfor\u001b[0m \u001b[0mappartment\u001b[0m \u001b[1;32min\u001b[0m \u001b[0mhouse\u001b[0m\u001b[1;33m.\u001b[0m\u001b[0mappartments\u001b[0m\u001b[1;33m:\u001b[0m\u001b[1;33m\u001b[0m\u001b[1;33m\u001b[0m\u001b[0m\n\u001b[1;32m----> 6\u001b[1;33m         \u001b[0mappartment\u001b[0m \u001b[1;33m=\u001b[0m \u001b[0mAppartment\u001b[0m\u001b[1;33m(\u001b[0m\u001b[0mappartment\u001b[0m\u001b[1;33m)\u001b[0m\u001b[1;33m\u001b[0m\u001b[1;33m\u001b[0m\u001b[0m\n\u001b[0m\u001b[0;32m      7\u001b[0m         \u001b[1;32mif\u001b[0m \u001b[0mappartment\u001b[0m\u001b[1;33m.\u001b[0m\u001b[0mappartment_id\u001b[0m \u001b[1;32mnot\u001b[0m \u001b[1;32min\u001b[0m \u001b[0mdf\u001b[0m\u001b[1;33m[\u001b[0m\u001b[1;34m'ID'\u001b[0m\u001b[1;33m]\u001b[0m\u001b[1;33m:\u001b[0m\u001b[1;33m\u001b[0m\u001b[1;33m\u001b[0m\u001b[0m\n\u001b[0;32m      8\u001b[0m             data = {'ID':appartment.appartment_id,\n",
      "\u001b[1;32m~\\AppData\\Local\\Temp/ipykernel_18096/717002074.py\u001b[0m in \u001b[0;36m__init__\u001b[1;34m(self, appartment)\u001b[0m\n\u001b[0;32m     32\u001b[0m         \u001b[1;31m# get appartment details as a list\u001b[0m\u001b[1;33m\u001b[0m\u001b[1;33m\u001b[0m\u001b[0m\n\u001b[0;32m     33\u001b[0m         \u001b[0mself\u001b[0m\u001b[1;33m.\u001b[0m\u001b[0mappartment\u001b[0m \u001b[1;33m=\u001b[0m \u001b[0mself\u001b[0m\u001b[1;33m.\u001b[0m\u001b[0mappartment\u001b[0m\u001b[1;33m.\u001b[0m\u001b[0mtext\u001b[0m\u001b[1;33m.\u001b[0m\u001b[0msplit\u001b[0m\u001b[1;33m(\u001b[0m\u001b[1;34m'\\n'\u001b[0m\u001b[1;33m)\u001b[0m\u001b[1;33m\u001b[0m\u001b[1;33m\u001b[0m\u001b[0m\n\u001b[1;32m---> 34\u001b[1;33m         self.montly_payment = sum([int(re.sub(\"[^0-9.]\", '', i))\n\u001b[0m\u001b[0;32m     35\u001b[0m                                   for i in self.appartment[0].split('/')])\n\u001b[0;32m     36\u001b[0m         \u001b[0mself\u001b[0m\u001b[1;33m.\u001b[0m\u001b[0mfloor\u001b[0m \u001b[1;33m=\u001b[0m \u001b[0mint\u001b[0m\u001b[1;33m(\u001b[0m\u001b[0mre\u001b[0m\u001b[1;33m.\u001b[0m\u001b[0msub\u001b[0m\u001b[1;33m(\u001b[0m\u001b[1;34m'[^0-9]'\u001b[0m\u001b[1;33m,\u001b[0m \u001b[1;34m''\u001b[0m\u001b[1;33m,\u001b[0m \u001b[0mself\u001b[0m\u001b[1;33m.\u001b[0m\u001b[0mappartment\u001b[0m\u001b[1;33m[\u001b[0m\u001b[1;36m1\u001b[0m\u001b[1;33m]\u001b[0m\u001b[1;33m)\u001b[0m\u001b[1;33m)\u001b[0m\u001b[1;33m\u001b[0m\u001b[1;33m\u001b[0m\u001b[0m\n",
      "\u001b[1;32m~\\AppData\\Local\\Temp/ipykernel_18096/717002074.py\u001b[0m in \u001b[0;36m<listcomp>\u001b[1;34m(.0)\u001b[0m\n\u001b[0;32m     32\u001b[0m         \u001b[1;31m# get appartment details as a list\u001b[0m\u001b[1;33m\u001b[0m\u001b[1;33m\u001b[0m\u001b[0m\n\u001b[0;32m     33\u001b[0m         \u001b[0mself\u001b[0m\u001b[1;33m.\u001b[0m\u001b[0mappartment\u001b[0m \u001b[1;33m=\u001b[0m \u001b[0mself\u001b[0m\u001b[1;33m.\u001b[0m\u001b[0mappartment\u001b[0m\u001b[1;33m.\u001b[0m\u001b[0mtext\u001b[0m\u001b[1;33m.\u001b[0m\u001b[0msplit\u001b[0m\u001b[1;33m(\u001b[0m\u001b[1;34m'\\n'\u001b[0m\u001b[1;33m)\u001b[0m\u001b[1;33m\u001b[0m\u001b[1;33m\u001b[0m\u001b[0m\n\u001b[1;32m---> 34\u001b[1;33m         self.montly_payment = sum([int(re.sub(\"[^0-9.]\", '', i))\n\u001b[0m\u001b[0;32m     35\u001b[0m                                   for i in self.appartment[0].split('/')])\n\u001b[0;32m     36\u001b[0m         \u001b[0mself\u001b[0m\u001b[1;33m.\u001b[0m\u001b[0mfloor\u001b[0m \u001b[1;33m=\u001b[0m \u001b[0mint\u001b[0m\u001b[1;33m(\u001b[0m\u001b[0mre\u001b[0m\u001b[1;33m.\u001b[0m\u001b[0msub\u001b[0m\u001b[1;33m(\u001b[0m\u001b[1;34m'[^0-9]'\u001b[0m\u001b[1;33m,\u001b[0m \u001b[1;34m''\u001b[0m\u001b[1;33m,\u001b[0m \u001b[0mself\u001b[0m\u001b[1;33m.\u001b[0m\u001b[0mappartment\u001b[0m\u001b[1;33m[\u001b[0m\u001b[1;36m1\u001b[0m\u001b[1;33m]\u001b[0m\u001b[1;33m)\u001b[0m\u001b[1;33m)\u001b[0m\u001b[1;33m\u001b[0m\u001b[1;33m\u001b[0m\u001b[0m\n",
      "\u001b[1;31mValueError\u001b[0m: invalid literal for int() with base 10: '40002126.082'"
     ]
    }
   ],
   "source": [
    "houses = driver.find_elements(by=By.CSS_SELECTOR, value='.property-wrapper')\n",
    "\n",
    "for house in houses:\n",
    "    house = House(house)\n",
    "    for appartment in house.appartments:\n",
    "        appartment = Appartment(appartment)\n",
    "        if appartment.appartment_id not in df['ID']:\n",
    "            data = {'ID':appartment.appartment_id,\n",
    "                    'Name':house.appartment_name,\n",
    "                    'Type':house.appartment_type,\n",
    "                    'Built In':2022-house.age,\n",
    "                    'Address':house.address,\n",
    "                    'Floor Number':appartment.floor_number,\n",
    "                'Room Type':appartment.room_type,\n",
    "                'Area':appartment.area,\n",
    "                'URL':appartment.appartment_link,\n",
    "                'Monthly Payment':appartment.monthly_payment}\n",
    "            df = df.append(data, ignore_index = True)\n",
    "    break\n",
    "\n",
    "df"
   ]
  },
  {
   "cell_type": "code",
   "execution_count": 176,
   "metadata": {},
   "outputs": [
    {
     "data": {
      "text/plain": [
       "<selenium.webdriver.remote.webelement.WebElement (session=\"f84491a357b94e22d2311a528766fc42\", element=\"66f45266-5489-41ab-9acd-d4a1b5a76781\")>"
      ]
     },
     "execution_count": 176,
     "metadata": {},
     "output_type": "execute_result"
    }
   ],
   "source": [
    "house.appartments[0]"
   ]
  }
 ],
 "metadata": {
  "interpreter": {
   "hash": "32feb0801da70f17b1f822b12d6cc47a37ed7324c1713b5c8a6c518438790250"
  },
  "kernelspec": {
   "display_name": "Python 3.9.7 ('base')",
   "language": "python",
   "name": "python3"
  },
  "language_info": {
   "codemirror_mode": {
    "name": "ipython",
    "version": 3
   },
   "file_extension": ".py",
   "mimetype": "text/x-python",
   "name": "python",
   "nbconvert_exporter": "python",
   "pygments_lexer": "ipython3",
   "version": "3.9.7"
  },
  "orig_nbformat": 4
 },
 "nbformat": 4,
 "nbformat_minor": 2
}
